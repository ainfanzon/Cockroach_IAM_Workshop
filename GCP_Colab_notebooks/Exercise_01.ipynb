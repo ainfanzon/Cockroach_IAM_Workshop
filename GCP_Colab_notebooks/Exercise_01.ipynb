{
  "cells": [
    {
      "cell_type": "markdown",
      "metadata": {
        "id": "view-in-github",
        "colab_type": "text"
      },
      "source": [
        "<a href=\"https://colab.research.google.com/github/ainfanzon/Cockroach_IAM_Workshop/blob/main/GCP_Colab_notebooks/Exercise_01.ipynb\" target=\"_parent\"><img src=\"https://colab.research.google.com/assets/colab-badge.svg\" alt=\"Open In Colab\"/></a>"
      ]
    },
    {
      "cell_type": "markdown",
      "id": "67ae764a-0ab3-408e-ba28-e248607d7e35",
      "metadata": {
        "id": "67ae764a-0ab3-408e-ba28-e248607d7e35"
      },
      "source": [
        "\n",
        "<img src=\"https://drive.google.com/uc?id=1XYr9Tyrz31a5kZdo601xD1QWz_YM8-H3\">\n",
        "\n",
        "### CockroachDB is a distributed SQL database that is __*highly scalable*__, __*resilient*__, and __*easy to use*__.\n",
        "\n",
        "# Identity and Access Management Workshop.\n",
        "---\n",
        "## CockroachDB Overview.\n",
        "\n",
        "In this Lab you will:\n",
        "\n",
        "1. Start a three node cluster.\n",
        "1. Verify the cluster deployment.\n",
        "1. Load data and verify replication.\n",
        "\n",
        "Assign your Public IP to the **my_ip** variable and your user id to the **uid** below:"
      ]
    },
    {
      "cell_type": "code",
      "source": [
        "my_ip = '34.223.52.6'\n",
        "uid = 'roachie'"
      ],
      "metadata": {
        "id": "FbFiUrUCdUvO"
      },
      "id": "FbFiUrUCdUvO",
      "execution_count": null,
      "outputs": []
    },
    {
      "cell_type": "markdown",
      "source": [
        "---\n",
        "\n",
        "## 1. Start a three node cluster.\n",
        "\n",
        "<html>\n",
        "<head>\n",
        "<style>\n",
        "table, th, td {\n",
        "  border: 1px solid black;\n",
        "  border-collapse: collapse;\n",
        "}\n",
        "</style>\n",
        "</head>\n",
        "<body>\n",
        "\n",
        "<table style=\"width:100%\">\n",
        "  <tr>\n",
        "      <td align=\"right\">\n",
        "          <img src=\"https://drive.google.com/uc?id=1k_qixt3JcQTD13Zhi_jycORL046zrYR7\" width=\"850\" height=\"250\">\n",
        "      </td>\n",
        "  </tr>\n",
        "</table>\n",
        "\n",
        "</body>\n",
        "</html>\n",
        "\n",
        "To start a cluster with three nodes execute the steps below:\n",
        "\n",
        "- On your laptop open a terminal window and connect to the virtual machine using ssh (run the cell below to create the ssh command)"
      ],
      "metadata": {
        "id": "p_E3Ihv8MQi8"
      },
      "id": "p_E3Ihv8MQi8"
    },
    {
      "cell_type": "code",
      "source": [
        "display(Markdown(f\"> ssh {uid}@{my_ip}\"))"
      ],
      "metadata": {
        "id": "WZVgtksQj1nS"
      },
      "id": "WZVgtksQj1nS",
      "execution_count": null,
      "outputs": []
    },
    {
      "cell_type": "markdown",
      "source": [
        "- To start a three nodes cluster execute the __**cockroach start**__ (see example below). For the lab there is a script (`strt_crdb.sh`) you can execute. The script is located in the `/home/cockroach/scripts/` directory.\n",
        "\n",
        "> ```/home/cockroach/scripts/start_crdb.sh```\n",
        "\n",
        "<p> The script executes the **cockroach start** command\n",
        "<br><br>\n",
        "&emsp;&emsp;cockroach start<br>\n",
        "&emsp;&emsp;&emsp;&emsp;--insecure<br>\n",
        "&emsp;&emsp;&emsp;&emsp;--listen-addr=&lt;ip address&gt;:&lt;sql listening port&gt;<br>\n",
        "&emsp;&emsp;&emsp;&emsp;--join=&lt;ip address&gt;:&lt;sql listening port&gt;, ... ,&lt;ip address&gt;:&lt;sql listening port&gt;<br>\n",
        "&emsp;&emsp;&emsp;&emsp;--http-addr=&lt;ip address&gt;:&lt;http listening port&gt;<br>\n",
        "&emsp;&emsp;&emsp;&emsp;--locality=region=us-west,zone=us-west-1a<br>\n",
        "&emsp;&emsp;&emsp;&emsp;--store=/home/cockroach/data/cr_data_1<br>\n",
        "&emsp;&emsp;&emsp;&emsp;--background<br>\n",
        "<br>\n",
        "&emsp;&emsp;cockroach init --insecure --host &lt;ip address&gt;\n",
        "</p>\n",
        "\n",
        "You should see a `Cluster successfully initialized` message.\n",
        "<br><br>\n",
        "\n"
      ],
      "metadata": {
        "id": "X2VzA8GQjo2g"
      },
      "id": "X2VzA8GQjo2g"
    },
    {
      "cell_type": "markdown",
      "source": [
        "---\n",
        "\n",
        "## 2. Verify the cluster deployment\n",
        "\n",
        "On your terminal window verify there are three instances of the `cockroach` process running on different ports. The command below displays the `process id` and the full command used to launch the process.\n",
        "\n",
        "> `pgrep -a cockroach`\n",
        "\n",
        "&emsp;NOTE: Each process will be running on the same IP address but different ports. The command below displays the listneing address.\n",
        "\n",
        "> ```pgrep -a cockroach | awk '{ printf \"%s | %s\\n\", $5, $7}'```\n",
        "\n",
        "> ```\n",
        "--listen-addr=10.0.1.2:26257 | --http-addr=10.0.1.2:8080\n",
        "--listen-addr=10.0.1.2:26258 | --http-addr=10.0.1.2:8081\n",
        "--listen-addr=10.0.1.2:26259 | --http-addr=10.0.1.2:8082\n",
        "```\n",
        "\n",
        "- Execute the cell below and click the generated url to open another browser tab to display the cockroach **DB Console**:"
      ],
      "metadata": {
        "id": "fkFuSQMDi0mD"
      },
      "id": "fkFuSQMDi0mD"
    },
    {
      "cell_type": "code",
      "source": [
        "print(f\"http://{my_ip}:8080/#/overview/list\")"
      ],
      "metadata": {
        "id": "JuX4NPA0mlEI"
      },
      "id": "JuX4NPA0mlEI",
      "execution_count": null,
      "outputs": []
    },
    {
      "cell_type": "markdown",
      "source": [
        "- Use SQL to display the same information\n"
      ],
      "metadata": {
        "id": "Ht1D2jDBk7xg"
      },
      "id": "Ht1D2jDBk7xg"
    },
    {
      "cell_type": "code",
      "source": [
        "import psycopg2\n",
        "import pandas as pd\n",
        "\n",
        "from IPython.display import IFrame, display, HTML, Markdown\n",
        "\n",
        "pd.set_option('display.max_colwidth', None)\n",
        "\n",
        "try:\n",
        "    conn = psycopg2.connect(\n",
        "        database = 'defaultdb'\n",
        "      , user = 'root'\n",
        "      , host = my_ip\n",
        "      , port = '26257'\n",
        "      , sslmode = 'disable'\n",
        "    )\n",
        "    display(Markdown(\"## Connection successful!\"))\n",
        "except psycopg2.OperationalError as e:\n",
        "    print(f\"Error connecting to database: {e}\")"
      ],
      "metadata": {
        "id": "yeV_CW6ejXEj"
      },
      "id": "yeV_CW6ejXEj",
      "execution_count": null,
      "outputs": []
    },
    {
      "cell_type": "markdown",
      "source": [
        "- Execute the SQL below to display the cluster:\n",
        "    - Node id\n",
        "    - Advertised Address\n",
        "    - Version\n",
        "    - Up Time\n",
        "    - Number of Ranges\n",
        "    - Number of Leaders\n",
        "    - Server Status and,\n",
        "    - Membership Status."
      ],
      "metadata": {
        "id": "Dxdxqu_ZxpvK"
      },
      "id": "Dxdxqu_ZxpvK"
    },
    {
      "cell_type": "code",
      "source": [
        "try:\n",
        "    cursor = conn.cursor()\n",
        "    cursor.execute(\"\"\"\n",
        "        SELECT gn.node_id AS \"Node ID\"\n",
        "             , gn.advertise_sql_address AS \"Advertised Address\"\n",
        "             , gn.build_tag AS \"Version\"\n",
        "             , current_timestamp() AT TIME ZONE 'UTC' - gn.started_at AS \"Up Time\"\n",
        "             , \"ranges\" AS \"Ranges\"\n",
        "             , leases AS \"Leaders\"\n",
        "             , CASE WHEN is_live THEN 'LIVE' ELSE 'DEAD' END AS \"Server Status\"\n",
        "             , gl.membership AS \"Membership Status\"\n",
        "        FROM crdb_internal.gossip_nodes AS gn join crdb_internal.gossip_liveness AS gl USING(node_id)\n",
        "        \"\"\")\n",
        "    result_set = cursor.fetchall()\n",
        "    df_result_set = pd.DataFrame(result_set, columns=[desc[0] for desc in cursor.description])\n",
        "    df_result_set.set_index('Node ID', inplace=True)\n",
        "    display(df_result_set)\n",
        "    cursor.close()\n",
        "except psycopg2.OperationalError as e:\n",
        "    cursor.close()\n",
        "    conn.commit()"
      ],
      "metadata": {
        "id": "SBAaW8nvsKUv"
      },
      "id": "SBAaW8nvsKUv",
      "execution_count": null,
      "outputs": []
    },
    {
      "cell_type": "markdown",
      "id": "9cbb5aa5-6cf8-4c0b-8e1f-851b9b67d7d1",
      "metadata": {
        "id": "9cbb5aa5-6cf8-4c0b-8e1f-851b9b67d7d1"
      },
      "source": [
        "### Few points to note.\n",
        "\n",
        "Replicas are automatically distributed across cluster nodes.\n",
        "\n",
        "- How many ranges does each replica (node) has?\n",
        "- What is the advantage of using the private IP instead of the Public one?\n",
        "- How many ranges are unavailable?\n",
        "- Are all the nodes active and live?\n",
        "<br><br>\n",
        "\n",
        "---\n",
        "\n",
        "## 3. Create and populate the IAM database.\n",
        "\n",
        "Next step is to create and populate the Identity Access Management database.\n",
        "\n",
        "<html>\n",
        "<head>\n",
        "<style>\n",
        "table, th, td {\n",
        "  border: 1px solid black;\n",
        "  border-collapse: collapse;\n",
        "}\n",
        "</style>\n",
        "</head>\n",
        "<body>\n",
        "\n",
        "<table style=\"width:100%\">\n",
        "  <tr>\n",
        "      <td align=\"right\">\n",
        "          <img src=\"https://drive.google.com/uc?id=1hhcjsCJ7TO7nhUmR2JRoBhi7BZ-L5SIh\" width=\"550\" height=\"400\">\n",
        "      </td>\n",
        "  </tr>\n",
        "</table>\n",
        "\n",
        "</body>\n",
        "</html>\n",
        "<br>\n",
        "\n",
        "Follow the steps below to create a database and load the data:\n",
        "\n",
        "- On your laptop, open a second terminal window using ssh (see above).\n",
        "\n",
        "- Change to the **/home/cockroach/dump** directory and execute the **Python** http server.\n",
        "\n",
        "> ```\n",
        "cd /home/cockroach/dump\n",
        "python -m http.server 3000\n",
        "```\n",
        "&emsp;You should see the HTTP server is running on port 3000\n",
        "\n",
        "> <code>\n",
        "Serving HTTP on 0.0.0.0 port 3000 (http://0.0.0.0:3000/) ...\n",
        "</code>\n",
        "\n",
        "- Use the first terminal to execute the scripts to create the schema and populate the database.\n",
        "\n",
        "    - First update the SQL script with your PRIVATE IP address. You can use the **bash** command below:<br>\n",
        "<code>\n",
        "sed -E -i s/HOST_IP/$(hostname -I | awk '{print $1}')/ /home/cockroach/sql/iam.sql\n",
        "</code><br>\n",
        "\n",
        "    - Then execute the SQL script<br>\n",
        "```cockroach sql --host $(hostname -I) -u root -d default -f /home/cockroach/sql/iam.sql --insecure```\n",
        "\n",
        "- Execute the cell below to compare the number of ranges and their distribution across the nodes in the cluster."
      ]
    },
    {
      "cell_type": "code",
      "source": [
        "try:\n",
        "    cursor = conn.cursor()\n",
        "    cursor.execute(\"\"\"\n",
        "        SELECT gn.node_id AS \"Node ID\"\n",
        "             , gn.advertise_sql_address AS \"Advertised Address\"\n",
        "             , gn.build_tag AS \"Version\"\n",
        "             , current_timestamp() AT TIME ZONE 'UTC' - gn.started_at AS \"Up Time\"\n",
        "             , \"ranges\" AS \"Ranges\"\n",
        "             , leases AS \"Leaders\"\n",
        "             , CASE WHEN is_live THEN 'LIVE' ELSE 'DEAD' END AS \"status\"\n",
        "             , gl.membership\n",
        "        FROM crdb_internal.gossip_nodes AS gn join crdb_internal.gossip_liveness AS gl USING(node_id)\n",
        "        \"\"\")\n",
        "    result_set = cursor.fetchall()\n",
        "    df_result_set = pd.DataFrame(result_set, columns=[desc[0] for desc in cursor.description])\n",
        "    df_result_set.set_index('Node ID', inplace=True)\n",
        "    display(df_result_set)\n",
        "    cursor.close()\n",
        "except psycopg2.OperationalError as e:\n",
        "    cursor.close()\n",
        "    conn.commit()"
      ],
      "metadata": {
        "id": "-ZZ8hboAIHeZ"
      },
      "id": "-ZZ8hboAIHeZ",
      "execution_count": null,
      "outputs": []
    },
    {
      "cell_type": "markdown",
      "source": [
        "### Few points to note.\n",
        "\n",
        "- Why is there a difference in the number of ranges with first execution of the statement?\n",
        "- Why is there a difference in the number of Leaders?\n",
        "- Compare with the number of ranges in the DB Console."
      ],
      "metadata": {
        "id": "i4NVTNewXOks"
      },
      "id": "i4NVTNewXOks"
    },
    {
      "cell_type": "markdown",
      "id": "281563bc-35e8-4114-b2d2-ecb4ebb01651",
      "metadata": {
        "id": "281563bc-35e8-4114-b2d2-ecb4ebb01651"
      },
      "source": [
        "---\n",
        "## CockroachDB is a distributed SQL database that is __*highly scalable*__, __*resilient*__, and __*easy to use*__.\n",
        "<img src=\"https://drive.google.com/uc?id=1XYr9Tyrz31a5kZdo601xD1QWz_YM8-H3\">\n",
        "\n",
        "---\n",
        "\n",
        "# Appendix\n",
        "\n",
        "Workshop CRDB user id and passowrd\n",
        "\n",
        "> <p>uid = roachie</p>\n",
        "\n",
        "List CRDB process id and process name.\n",
        "\n",
        "> <code>pgrep -l cockroach</code>\n",
        "\n",
        "List the listening address of each `cockroach` process.\n",
        "\n",
        "> <code>pgrep -a cockroach | awk '{ print $5}'</code>\n",
        "\n",
        "Kill ALL CRDB processes\n",
        "\n",
        "> <code>kill -9  $(pgrep cockroach)</code>\n",
        "\n",
        "Remove all CRDB files\n",
        "\n",
        "> <code>rm -fR /home/cockroach/data/*</code>\n",
        "\n",
        "Replace ip in file\n",
        "\n",
        "> ```sed -E -i s/HOST_IP/$(hostname -I | awk '{print $1}')/ iam.sql```\n",
        "\n",
        "Listening ports\n",
        "\n",
        "> ```netstat -ntlp```"
      ]
    }
  ],
  "metadata": {
    "kernelspec": {
      "display_name": "Python 3 (ipykernel)",
      "language": "python",
      "name": "python3"
    },
    "language_info": {
      "codemirror_mode": {
        "name": "ipython",
        "version": 3
      },
      "file_extension": ".py",
      "mimetype": "text/x-python",
      "name": "python",
      "nbconvert_exporter": "python",
      "pygments_lexer": "ipython3",
      "version": "3.11.7"
    },
    "colab": {
      "provenance": [],
      "include_colab_link": true
    }
  },
  "nbformat": 4,
  "nbformat_minor": 5
}